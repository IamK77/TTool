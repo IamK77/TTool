{
 "cells": [
  {
   "cell_type": "code",
   "execution_count": 1,
   "metadata": {},
   "outputs": [
    {
     "name": "stdout",
     "output_type": "stream",
     "text": [
      "Name: torch\n",
      "Version: 1.13.1+cu116\n",
      "Summary: Tensors and Dynamic neural networks in Python with strong GPU acceleration\n",
      "Home-page: https://pytorch.org/\n",
      "Author: PyTorch Team\n",
      "Author-email: packages@pytorch.org\n",
      "License: BSD-3\n",
      "Location: d:\\anacoda3\\envs\\torch\\lib\\site-packages\n",
      "Requires: typing-extensions\n",
      "Required-by: thop, torchaudio, torchvision\n"
     ]
    },
    {
     "name": "stderr",
     "output_type": "stream",
     "text": [
      "WARNING: Ignoring invalid distribution -orch (d:\\anacoda3\\envs\\torch\\lib\\site-packages)\n"
     ]
    }
   ],
   "source": [
    "!pip show torch"
   ]
  },
  {
   "cell_type": "code",
   "execution_count": 2,
   "metadata": {},
   "outputs": [
    {
     "name": "stdout",
     "output_type": "stream",
     "text": [
      "\n",
      "     active environment : torch\n",
      "    active env location : D:\\Anacoda3\\envs\\torch\n",
      "            shell level : 1\n",
      "       user config file : C:\\Users\\24595\\.condarc\n",
      " populated config files : C:\\Users\\24595\\.condarc\n",
      "          conda version : 4.12.0\n",
      "    conda-build version : 3.21.8\n",
      "         python version : 3.9.12.final.0\n",
      "       virtual packages : __cuda=11.6=0\n",
      "                          __win=0=0\n",
      "                          __archspec=1=x86_64\n",
      "       base environment : D:\\Anacoda3  (writable)\n",
      "      conda av data dir : D:\\Anacoda3\\etc\\conda\n",
      "  conda av metadata url : None\n",
      "           channel URLs : https://mirrors.tuna.tsinghua.edu.cn/anaconda/cloud/msys2/win-64\n",
      "                          https://mirrors.tuna.tsinghua.edu.cn/anaconda/cloud/msys2/noarch\n",
      "                          https://mirrors.tuna.tsinghua.edu.cn/anaconda/cloud/conda-forge/win-64\n",
      "                          https://mirrors.tuna.tsinghua.edu.cn/anaconda/cloud/conda-forge/noarch\n",
      "                          https://mirrors.tuna.tsinghua.edu.cn/anaconda/pkgs/free/win-64\n",
      "                          https://mirrors.tuna.tsinghua.edu.cn/anaconda/pkgs/free/noarch\n",
      "                          https://repo.anaconda.com/pkgs/main/win-64\n",
      "                          https://repo.anaconda.com/pkgs/main/noarch\n",
      "                          https://repo.anaconda.com/pkgs/r/win-64\n",
      "                          https://repo.anaconda.com/pkgs/r/noarch\n",
      "                          https://repo.anaconda.com/pkgs/msys2/win-64\n",
      "                          https://repo.anaconda.com/pkgs/msys2/noarch\n",
      "          package cache : D:\\Anacoda3\\pkgs\n",
      "                          C:\\Users\\24595\\.conda\\pkgs\n",
      "                          C:\\Users\\24595\\AppData\\Local\\conda\\conda\\pkgs\n",
      "       envs directories : D:\\Anacoda3\\envs\n",
      "                          C:\\Users\\24595\\.conda\\envs\n",
      "                          C:\\Users\\24595\\AppData\\Local\\conda\\conda\\envs\n",
      "               platform : win-64\n",
      "             user-agent : conda/4.12.0 requests/2.27.1 CPython/3.9.12 Windows/10 Windows/10.0.19044\n",
      "          administrator : False\n",
      "             netrc file : None\n",
      "           offline mode : False\n",
      "\n"
     ]
    }
   ],
   "source": [
    "!conda info"
   ]
  },
  {
   "cell_type": "code",
   "execution_count": 2,
   "metadata": {},
   "outputs": [],
   "source": [
    "import torchvision\n",
    "import torchvision.transforms as transforms\n",
    "\n",
    "from utils import TNet, CIFA10Net, MnistNet"
   ]
  },
  {
   "cell_type": "code",
   "execution_count": 4,
   "metadata": {},
   "outputs": [
    {
     "name": "stdout",
     "output_type": "stream",
     "text": [
      "Name: torchvision\n",
      "Version: 0.14.1+cu116\n",
      "Summary: image and video datasets and models for torch deep learning\n",
      "Home-page: https://github.com/pytorch/vision\n",
      "Author: PyTorch Core Team\n",
      "Author-email: soumith@pytorch.org\n",
      "License: BSD\n",
      "Location: d:\\anacoda3\\envs\\torch\\lib\\site-packages\n",
      "Requires: numpy, pillow, requests, torch, typing-extensions\n",
      "Required-by: \n"
     ]
    },
    {
     "name": "stderr",
     "output_type": "stream",
     "text": [
      "WARNING: Ignoring invalid distribution -orch (d:\\anacoda3\\envs\\torch\\lib\\site-packages)\n"
     ]
    }
   ],
   "source": [
    "!pip show torchvision"
   ]
  },
  {
   "cell_type": "code",
   "execution_count": null,
   "metadata": {},
   "outputs": [],
   "source": []
  }
 ],
 "metadata": {
  "kernelspec": {
   "display_name": "torch",
   "language": "python",
   "name": "torch"
  },
  "language_info": {
   "codemirror_mode": {
    "name": "ipython",
    "version": 3
   },
   "file_extension": ".py",
   "mimetype": "text/x-python",
   "name": "python",
   "nbconvert_exporter": "python",
   "pygments_lexer": "ipython3",
   "version": "3.9.16"
  }
 },
 "nbformat": 4,
 "nbformat_minor": 2
}
